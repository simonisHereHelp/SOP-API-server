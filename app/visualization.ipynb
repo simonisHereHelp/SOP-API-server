{
 "cells": [
  {
   "cell_type": "code",
   "execution_count": 2,
   "metadata": {},
   "outputs": [
    {
     "data": {
      "text/plain": [
       "'/Users/bhargobdeka/Desktop/Projects/RAG-chatbot-Speckly/app'"
      ]
     },
     "execution_count": 2,
     "metadata": {},
     "output_type": "execute_result"
    }
   ],
   "source": [
    "%pwd\n"
   ]
  },
  {
   "cell_type": "code",
   "execution_count": 3,
   "metadata": {},
   "outputs": [],
   "source": [
    "import os\n",
    "os.chdir(\"..\")"
   ]
  },
  {
   "cell_type": "code",
   "execution_count": 4,
   "metadata": {},
   "outputs": [
    {
     "data": {
      "text/plain": [
       "'/Users/bhargobdeka/Desktop/Projects/RAG-chatbot-Speckly'"
      ]
     },
     "execution_count": 4,
     "metadata": {},
     "output_type": "execute_result"
    }
   ],
   "source": [
    "%pwd"
   ]
  },
  {
   "cell_type": "code",
   "execution_count": 6,
   "metadata": {},
   "outputs": [],
   "source": [
    "import os\n",
    "import pickle\n",
    "import sys\n",
    "\n",
    "# Get the current working directory\n",
    "current_dir = os.path.dirname(\"/Users/bhargobdeka/Desktop/Projects/RAG-chatbot-Speckly/app\")\n",
    "\n",
    "# Add the main directory to the Python path\n",
    "sys.path.append(os.path.dirname(current_dir))\n",
    "\n",
    "# Add the utils package to the Python path\n",
    "utils_dir = os.path.join(os.path.dirname(current_dir), 'utils')\n",
    "sys.path.append(utils_dir)"
   ]
  },
  {
   "cell_type": "code",
   "execution_count": 7,
   "metadata": {},
   "outputs": [],
   "source": [
    "from langchain_openai import ChatOpenAI, OpenAIEmbeddings\n",
    "from typing import List, Any, Union, Dict\n",
    "from utils.vector_store import create_vector_store\n",
    "from utils.grader import GraderUtils\n",
    "from utils.graph import GraphState\n",
    "from utils.generate_chain import create_generate_chain\n",
    "from utils.nodes import GraphNodes\n",
    "from utils.edges import EdgeGraph\n",
    "from langgraph.graph import END, StateGraph\n",
    "from fastapi import FastAPI\n",
    "from fastapi.responses import RedirectResponse\n",
    "from langserve import add_routes\n",
    "from langchain_core.pydantic_v1 import BaseModel, Field\n",
    "from langchain_core.messages import HumanMessage, AIMessage\n",
    "from langchain_core.output_parsers import StrOutputParser"
   ]
  },
  {
   "cell_type": "code",
   "execution_count": 8,
   "metadata": {},
   "outputs": [],
   "source": [
    "from dotenv import load_dotenv, find_dotenv\n",
    "load_dotenv(find_dotenv()) # important line if cannot load api key\n",
    "\n",
    "## Getting the api keys from the .env file\n",
    "\n",
    "os.environ['OPENAI_API_KEY'] = os.getenv('OPENAI_API_KEY')\n",
    "os.environ['LANGCHAIN_API_KEY'] = os.getenv('LANGCHAIN_API_KEY')\n",
    "\n",
    "# WebSearch tools\n",
    "os.environ['SERPAPI_API_KEY'] = os.getenv('SERPAPI_API_KEY')\n",
    "os.environ['GOOGLE_API_KEY'] = os.getenv('GOOGLE_API_KEY')\n",
    "os.environ['GOOGLE_CSE_ID'] = os.getenv('GOOGLE_CSE_ID')\n",
    "os.environ['TAVILY_API_KEY'] = os.getenv('TAVILY_API_KEY')\n",
    "\n",
    "# Langsmith Tracing\n",
    "os.environ['LANGCHAIN_TRACING_V2'] = os.getenv('LANGCHAIN_TRACING_V2')\n",
    "os.environ['LANGCHAIN_ENDPOINT'] = os.getenv('LANGCHAIN_ENDPOINT')\n",
    "os.environ['LANGCHAIN_PROJECT'] = os.getenv('LANGCHAIN_PROJECT')\n",
    "\n",
    "# Fire Crawl API\n",
    "os.environ['FIRE_API_KEY']=os.getenv('FIRE_API_KEY')\n",
    "\n",
    "## Create Retriever\n",
    "\n",
    "# embedding model\n",
    "embedding_model = OpenAIEmbeddings()\n",
    "\n",
    "# Load the crawled saved docs from the local file\n",
    "with open(\"crawled_docs/saved_docs.pkl\", \"rb\") as f:\n",
    "    saved_docs = pickle.load(f)\n",
    "\n",
    "# convert doc list to text strings\n",
    "# doc_text = [doc.page_content for doc in saved_docs]\n",
    "\n",
    "# create vector store\n",
    "store = create_vector_store(saved_docs)\n",
    "\n",
    "# creating retriever\n",
    "retriever = store.as_retriever()\n",
    "\n",
    "## LLM model\n",
    "llm = ChatOpenAI(model=\"gpt-4o\", temperature=0)\n",
    "\n",
    "\n",
    "# Create the generate chain\n",
    "generate_chain = create_generate_chain(llm)\n",
    "\n",
    "## get the grader instances\n",
    "\n",
    "# Create an instance of the GraderUtils class\n",
    "grader = GraderUtils(llm)\n",
    "\n",
    "# Get the retrieval grader\n",
    "retrieval_grader = grader.create_retrieval_grader()\n",
    "\n",
    "# Get the hallucination grader\n",
    "hallucination_grader = grader.create_hallucination_grader()\n",
    "\n",
    "# Get the code evaluator\n",
    "code_evaluator = grader.create_code_evaluator()\n",
    "\n",
    "# Get the question rewriter\n",
    "question_rewriter = grader.create_question_rewriter()\n",
    "\n",
    "## Creating the WorkFlow\n",
    "\n",
    "# Initiating the Graph\n",
    "workflow = StateGraph(GraphState)\n",
    "\n",
    "# Create an instance of the GraphNodes class\n",
    "graph_nodes = GraphNodes(llm, retriever, retrieval_grader, hallucination_grader, code_evaluator, question_rewriter)\n",
    "\n",
    "# Create an instance of the EdgeGraph class\n",
    "edge_graph = EdgeGraph(hallucination_grader, code_evaluator)\n",
    "\n",
    "# Define the nodes\n",
    "workflow.add_node(\"retrieve\", graph_nodes.retrieve) # retrieve documents\n",
    "workflow.add_node(\"grade_documents\", graph_nodes.grade_documents)  # grade documents\n",
    "workflow.add_node(\"generate\", graph_nodes.generate) # generate answers\n",
    "workflow.add_node(\"transform_query\", graph_nodes.transform_query)  # transform_query\n",
    "\n",
    "# Build graph\n",
    "workflow.set_entry_point(\"retrieve\")\n",
    "workflow.add_edge(\"retrieve\", \"grade_documents\")\n",
    "workflow.add_conditional_edges(\n",
    "    \"grade_documents\",\n",
    "    edge_graph.decide_to_generate,\n",
    "    {\n",
    "        \"transform_query\": \"transform_query\", # \"transform_query\": \"transform_query\",\n",
    "        \"generate\": \"generate\",\n",
    "    },\n",
    ")\n",
    "workflow.add_edge(\"transform_query\", \"retrieve\")\n",
    "workflow.add_conditional_edges(\n",
    "    \"generate\",\n",
    "    edge_graph.grade_generation_v_documents_and_question,\n",
    "    {\n",
    "        \"not supported\": \"generate\",\n",
    "        \"useful\": END,\n",
    "        \"not useful\": \"transform_query\", # \"transform_query\"\n",
    "    },\n",
    ")\n",
    "\n",
    "# Compile\n",
    "app = workflow.compile()"
   ]
  },
  {
   "cell_type": "code",
   "execution_count": 9,
   "metadata": {},
   "outputs": [
    {
     "data": {
      "image/jpeg": "[encoded data removed]",
      "text/plain": [
       "<IPython.core.display.Image object>"
      ]
     },
     "metadata": {},
     "output_type": "display_data"
    }
   ],
   "source": [
    "## graph\n",
    "from langchain_core.runnables.graph import CurveStyle, NodeColors, MermaidDrawMethod\n",
    "from IPython.display import display, HTML, Image\n",
    "\n",
    "display(\n",
    "    Image(\n",
    "        app.get_graph().draw_mermaid_png(\n",
    "            draw_method=MermaidDrawMethod.API,\n",
    "        )\n",
    "    )\n",
    ")"
   ]
  }
 ],
 "metadata": {
  "kernelspec": {
   "display_name": "venv",
   "language": "python",
   "name": "python3"
  },
  "language_info": {
   "codemirror_mode": {
    "name": "ipython",
    "version": 3
   },
   "file_extension": ".py",
   "mimetype": "text/x-python",
   "name": "python",
   "nbconvert_exporter": "python",
   "pygments_lexer": "ipython3",
   "version": "3.10.14"
  }
 },
 "nbformat": 4,
 "nbformat_minor": 2
}
