{
 "cells": [
  {
   "cell_type": "code",
   "execution_count": 1,
   "metadata": {},
   "outputs": [],
   "source": [
    "## the client is not working at the moment\n",
    "from langserve import RemoteRunnable\n",
    "import requests\n",
    "import json\n",
    "from pprint import pprint\n",
    "\n",
    "input_text = \"How to receive objects from the Server?\"\n",
    "\n",
    "# with public IP address\n",
    "app = RemoteRunnable(\"http://54.145.63.0:8080/speckle_chat/\")\n",
    "\n",
    "# with localhost\n",
    "# app = RemoteRunnable(\"http://localhost:8000/speckle_chat/\")\n"
   ]
  },
  {
   "cell_type": "code",
   "execution_count": 2,
   "metadata": {},
   "outputs": [
    {
     "name": "stdout",
     "output_type": "stream",
     "text": [
      "\"Node 'retrieve':\"\n",
      "'\\n---\\n'\n",
      "\"Node 'grade_documents':\"\n",
      "'\\n---\\n'\n",
      "\"Node 'generate':\"\n",
      "'\\n---\\n'\n"
     ]
    }
   ],
   "source": [
    "for output in app.stream({\"input\": input_text}):\n",
    "    for key, value in output.items():\n",
    "        # Node\n",
    "        pprint(f\"Node '{key}':\")\n",
    "        # Optional: print full state at each node\n",
    "        # pprint.pprint(value[\"keys\"], indent=2, width=80, depth=None)\n",
    "    pprint(\"\\n---\\n\")\n",
    "\n",
    "\n"
   ]
  },
  {
   "cell_type": "code",
   "execution_count": 3,
   "metadata": {},
   "outputs": [
    {
     "name": "stdout",
     "output_type": "stream",
     "text": [
      "To receive objects from the server using Speckle, you need to follow these steps:\n",
      "\n",
      "1. **Create a `SpeckleClient`**: This client serves as your entry point to the Speckle API.\n",
      "\n",
      "2. **Authenticate the Client**: Use a token from a local account to authenticate the client. You can create a Personal Access Token by going to `your-server.com/profile` if you haven't added a local account using the Speckle Manager.\n",
      "\n",
      "3. **Get the Commit**: Use the authenticated client to get the commit you're interested in.\n",
      "\n",
      "Here is a Python example to illustrate these steps:\n",
      "\n",
      "```python\n",
      "from specklepy.api.client import SpeckleClient\n",
      "from specklepy.api.credentials import get_local_account\n",
      "from specklepy.api.models import Stream\n",
      "\n",
      "# Initialize the client\n",
      "client = SpeckleClient(host=\"your-server.com\")\n",
      "\n",
      "# Authenticate the client using a local account token\n",
      "account = get_local_account()\n",
      "client.authenticate_with_account(account)\n",
      "\n",
      "# Specify the stream and commit ID you are interested in\n",
      "stream_id = \"your_stream_id\"\n",
      "commit_id = \"your_commit_id\"\n",
      "\n",
      "# Receive the object from the server\n",
      "commit = client.commit.get(stream_id, commit_id)\n",
      "received_object = client.object.get(stream_id, commit.referencedObject)\n",
      "\n",
      "print(received_object)\n",
      "```\n",
      "\n",
      "### Explanation:\n",
      "1. **Initialize the Client**: Replace `\"your-server.com\"` with your actual Speckle server URL.\n",
      "2. **Authenticate the Client**: The `get_local_account()` function retrieves the local account token.\n",
      "3. **Specify Stream and Commit ID**: Replace `\"your_stream_id\"` and `\"your_commit_id\"` with the actual IDs.\n",
      "4. **Receive the Object**: The `client.commit.get` method fetches the commit, and `client.object.get` retrieves the referenced object from the commit.\n",
      "\n",
      "This example assumes you have already set up your local account and have the necessary stream and commit IDs. If you need to create a Personal Access Token, you can do so by visiting `your-server.com/profile`.\n"
     ]
    }
   ],
   "source": [
    "print(value['generation'])"
   ]
  },
  {
   "cell_type": "markdown",
   "metadata": {},
   "source": [
    "## Testing with Gradio UI"
   ]
  },
  {
   "cell_type": "code",
   "execution_count": 1,
   "metadata": {},
   "outputs": [],
   "source": [
    "\n",
    "def get_response(input_text):\n",
    "    app = RemoteRunnable(\"http://localhost:8000/speckle_chat/\")\n",
    "    for output in app.stream({\"input\": input_text}):\n",
    "        for key, value in output.items():\n",
    "            # Node\n",
    "            pprint(f\"Node '{key}':\")\n",
    "            # Optional: print full state at each node\n",
    "            # pprint.pprint(value[\"keys\"], indent=2, width=80, depth=None)\n",
    "        pprint(\"\\n---\\n\")\n",
    "    output = value['generation']\n",
    "    return output      "
   ]
  },
  {
   "cell_type": "code",
   "execution_count": 2,
   "metadata": {},
   "outputs": [
    {
     "name": "stderr",
     "output_type": "stream",
     "text": [
      "/Users/bhargobdeka/Desktop/Projects/RAG-chatbot-Speckly/venv/lib/python3.10/site-packages/tqdm/auto.py:21: TqdmWarning: IProgress not found. Please update jupyter and ipywidgets. See https://ipywidgets.readthedocs.io/en/stable/user_install.html\n",
      "  from .autonotebook import tqdm as notebook_tqdm\n"
     ]
    },
    {
     "name": "stdout",
     "output_type": "stream",
     "text": [
      "Running on local URL:  http://127.0.0.1:7860\n",
      "Running on public URL: https://f03b5de2f94ddf9351.gradio.live\n",
      "\n",
      "This share link expires in 72 hours. For free permanent hosting and GPU upgrades, run `gradio deploy` from Terminal to deploy to Spaces (https://huggingface.co/spaces)\n"
     ]
    },
    {
     "data": {
      "text/html": [
       "<div><iframe src=\"https://f03b5de2f94ddf9351.gradio.live\" width=\"100%\" height=\"500\" allow=\"autoplay; camera; microphone; clipboard-read; clipboard-write;\" frameborder=\"0\" allowfullscreen></iframe></div>"
      ],
      "text/plain": [
       "<IPython.core.display.HTML object>"
      ]
     },
     "metadata": {},
     "output_type": "display_data"
    },
    {
     "data": {
      "text/plain": []
     },
     "execution_count": 2,
     "metadata": {},
     "output_type": "execute_result"
    },
    {
     "name": "stdout",
     "output_type": "stream",
     "text": [
      "\"Node 'retrieve':\"\n",
      "'\\n---\\n'\n",
      "\"Node 'grade_documents':\"\n",
      "'\\n---\\n'\n",
      "\"Node 'generate':\"\n",
      "'\\n---\\n'\n",
      "\"Node 'retrieve':\"\n",
      "'\\n---\\n'\n",
      "\"Node 'grade_documents':\"\n",
      "'\\n---\\n'\n",
      "\"Node 'generate':\"\n",
      "'\\n---\\n'\n"
     ]
    }
   ],
   "source": [
    "import gradio as gr\n",
    "from langserve import RemoteRunnable\n",
    "from pprint import pprint\n",
    "\n",
    "# Create the UI In Gradio\n",
    "iface = gr.Interface(fn=get_response, inputs=gr.Textbox(\n",
    "    value=\"Enter your question\"), \n",
    "        outputs=\"textbox\",  \n",
    "        title=\"Q&A over Speckle's developer docs\",\n",
    "        description=\"Ask a question about Speckle's developer docs and get an answer from the code assistant. This assistant looks up relevant documents and answers your code-related question.\",\n",
    "        examples=[[\"How do I install Speckle's python sdk?\"], \n",
    "                [\"How to commit and retrieve an object from Speckle?\"],\n",
    "                ],\n",
    "    theme=gr.themes.Soft(),\n",
    "    allow_flagging=\"never\",)\n",
    "\n",
    "iface.launch(share=True) # put share equal to True for public URL"
   ]
  },
  {
   "cell_type": "code",
   "execution_count": null,
   "metadata": {},
   "outputs": [],
   "source": []
  }
 ],
 "metadata": {
  "kernelspec": {
   "display_name": "venv",
   "language": "python",
   "name": "python3"
  },
  "language_info": {
   "codemirror_mode": {
    "name": "ipython",
    "version": 3
   },
   "file_extension": ".py",
   "mimetype": "text/x-python",
   "name": "python",
   "nbconvert_exporter": "python",
   "pygments_lexer": "ipython3",
   "version": "3.10.14"
  }
 },
 "nbformat": 4,
 "nbformat_minor": 2
}
